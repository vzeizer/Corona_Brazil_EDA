{
 "cells": [
  {
   "cell_type": "markdown",
   "metadata": {},
   "source": [
    "# Project CoronaVirus Brazil Dataset EDA (Exploratory Data Analysis)! Criado por Dr. Vagner Zeizer Carvalho Paes."
   ]
  },
  {
   "cell_type": "markdown",
   "metadata": {},
   "source": [
    "# Introdução\n",
    "\n",
    "## Vamos usar um conjunto de dados do Kaggle que mostra as mortes em 2019 e 2020, mostrando a faixa de idade, causas, cor da pele, etc.\n",
    "## O Objetivo é fazer uma análise do impacto da pandemia do Corona vírus sobre as mortes no Brasil, analisando como o total de mortes varia para cada idade, gênero, cor da pele, etc."
   ]
  },
  {
   "cell_type": "markdown",
   "metadata": {},
   "source": [
    "# Importando pacotes básicos do Python"
   ]
  },
  {
   "cell_type": "code",
   "execution_count": 1,
   "metadata": {},
   "outputs": [],
   "source": [
    "import pandas as pd\n",
    "import numpy as np\n",
    "\n",
    "import matplotlib.pyplot as plt"
   ]
  },
  {
   "cell_type": "markdown",
   "metadata": {},
   "source": [
    "# lendo os dados"
   ]
  },
  {
   "cell_type": "code",
   "execution_count": 2,
   "metadata": {},
   "outputs": [],
   "source": [
    "data = pd.read_csv('death_cause_brazil.csv',parse_dates=True)\n"
   ]
  },
  {
   "cell_type": "code",
   "execution_count": 3,
   "metadata": {},
   "outputs": [
    {
     "data": {
      "text/html": [
       "<div>\n",
       "<style scoped>\n",
       "    .dataframe tbody tr th:only-of-type {\n",
       "        vertical-align: middle;\n",
       "    }\n",
       "\n",
       "    .dataframe tbody tr th {\n",
       "        vertical-align: top;\n",
       "    }\n",
       "\n",
       "    .dataframe thead th {\n",
       "        text-align: right;\n",
       "    }\n",
       "</style>\n",
       "<table border=\"1\" class=\"dataframe\">\n",
       "  <thead>\n",
       "    <tr style=\"text-align: right;\">\n",
       "      <th></th>\n",
       "      <th>date</th>\n",
       "      <th>state</th>\n",
       "      <th>gender</th>\n",
       "      <th>age</th>\n",
       "      <th>color</th>\n",
       "      <th>cause</th>\n",
       "      <th>total</th>\n",
       "    </tr>\n",
       "  </thead>\n",
       "  <tbody>\n",
       "    <tr>\n",
       "      <th>0</th>\n",
       "      <td>2020-01-01</td>\n",
       "      <td>AC</td>\n",
       "      <td>F</td>\n",
       "      <td>60 - 69</td>\n",
       "      <td>East asian</td>\n",
       "      <td>Septicemia</td>\n",
       "      <td>1</td>\n",
       "    </tr>\n",
       "    <tr>\n",
       "      <th>1</th>\n",
       "      <td>2019-01-01</td>\n",
       "      <td>AC</td>\n",
       "      <td>F</td>\n",
       "      <td>80 - 89</td>\n",
       "      <td>White</td>\n",
       "      <td>Hearth attack</td>\n",
       "      <td>1</td>\n",
       "    </tr>\n",
       "    <tr>\n",
       "      <th>2</th>\n",
       "      <td>2019-01-01</td>\n",
       "      <td>AC</td>\n",
       "      <td>F</td>\n",
       "      <td>30 - 39</td>\n",
       "      <td>Indigenous</td>\n",
       "      <td>Others</td>\n",
       "      <td>1</td>\n",
       "    </tr>\n",
       "    <tr>\n",
       "      <th>3</th>\n",
       "      <td>2019-01-01</td>\n",
       "      <td>AC</td>\n",
       "      <td>F</td>\n",
       "      <td>70 - 79</td>\n",
       "      <td>Mixed</td>\n",
       "      <td>Cardiogenic shock</td>\n",
       "      <td>1</td>\n",
       "    </tr>\n",
       "    <tr>\n",
       "      <th>4</th>\n",
       "      <td>2020-01-01</td>\n",
       "      <td>AC</td>\n",
       "      <td>F</td>\n",
       "      <td>70 - 79</td>\n",
       "      <td>Mixed</td>\n",
       "      <td>Pneumonia</td>\n",
       "      <td>1</td>\n",
       "    </tr>\n",
       "  </tbody>\n",
       "</table>\n",
       "</div>"
      ],
      "text/plain": [
       "         date state gender      age       color              cause  total\n",
       "0  2020-01-01    AC      F  60 - 69  East asian         Septicemia      1\n",
       "1  2019-01-01    AC      F  80 - 89       White      Hearth attack      1\n",
       "2  2019-01-01    AC      F  30 - 39  Indigenous             Others      1\n",
       "3  2019-01-01    AC      F  70 - 79       Mixed  Cardiogenic shock      1\n",
       "4  2020-01-01    AC      F  70 - 79       Mixed          Pneumonia      1"
      ]
     },
     "execution_count": 3,
     "metadata": {},
     "output_type": "execute_result"
    }
   ],
   "source": [
    "data.head()"
   ]
  },
  {
   "cell_type": "markdown",
   "metadata": {},
   "source": [
    "# como tem uma coluna que corresponde a data, temos uma série temporal (Time Series)."
   ]
  },
  {
   "cell_type": "code",
   "execution_count": 4,
   "metadata": {},
   "outputs": [],
   "source": [
    "data['date']=pd.to_datetime(data['date'])"
   ]
  },
  {
   "cell_type": "markdown",
   "metadata": {},
   "source": [
    "# Analisando informações sobre o conjunto de dados"
   ]
  },
  {
   "cell_type": "code",
   "execution_count": 5,
   "metadata": {},
   "outputs": [
    {
     "name": "stdout",
     "output_type": "stream",
     "text": [
      "<class 'pandas.core.frame.DataFrame'>\n",
      "RangeIndex: 1098241 entries, 0 to 1098240\n",
      "Data columns (total 7 columns):\n",
      " #   Column  Non-Null Count    Dtype         \n",
      "---  ------  --------------    -----         \n",
      " 0   date    1098241 non-null  datetime64[ns]\n",
      " 1   state   1098241 non-null  object        \n",
      " 2   gender  1098241 non-null  object        \n",
      " 3   age     1098241 non-null  object        \n",
      " 4   color   1098241 non-null  object        \n",
      " 5   cause   1098241 non-null  object        \n",
      " 6   total   1098241 non-null  int64         \n",
      "dtypes: datetime64[ns](1), int64(1), object(5)\n",
      "memory usage: 58.7+ MB\n"
     ]
    }
   ],
   "source": [
    "data.info()"
   ]
  },
  {
   "cell_type": "markdown",
   "metadata": {},
   "source": [
    "# os tipos das variáveis estão ok"
   ]
  },
  {
   "cell_type": "markdown",
   "metadata": {},
   "source": [
    "# Temos seis colunas no conjunto de dados!\n",
    "## a saber <em> data, estado, genêro, idade, cor, causa e total </em>"
   ]
  },
  {
   "cell_type": "markdown",
   "metadata": {},
   "source": [
    "# Analisando a consistência dos dados"
   ]
  },
  {
   "cell_type": "markdown",
   "metadata": {},
   "source": [
    "## procurando por dados duplicados"
   ]
  },
  {
   "cell_type": "code",
   "execution_count": 6,
   "metadata": {},
   "outputs": [
    {
     "data": {
      "text/plain": [
       "0"
      ]
     },
     "execution_count": 6,
     "metadata": {},
     "output_type": "execute_result"
    }
   ],
   "source": [
    "data.duplicated().sum()"
   ]
  },
  {
   "cell_type": "markdown",
   "metadata": {},
   "source": [
    "# -> não há dados duplicados"
   ]
  },
  {
   "cell_type": "code",
   "execution_count": 7,
   "metadata": {},
   "outputs": [
    {
     "data": {
      "text/plain": [
       "date      0\n",
       "state     0\n",
       "gender    0\n",
       "age       0\n",
       "color     0\n",
       "cause     0\n",
       "total     0\n",
       "dtype: int64"
      ]
     },
     "execution_count": 7,
     "metadata": {},
     "output_type": "execute_result"
    }
   ],
   "source": [
    "data.isnull().sum()"
   ]
  },
  {
   "cell_type": "markdown",
   "metadata": {},
   "source": [
    "## tipos das variáveis!"
   ]
  },
  {
   "cell_type": "code",
   "execution_count": 8,
   "metadata": {},
   "outputs": [
    {
     "data": {
      "text/plain": [
       "date      datetime64[ns]\n",
       "state             object\n",
       "gender            object\n",
       "age               object\n",
       "color             object\n",
       "cause             object\n",
       "total              int64\n",
       "dtype: object"
      ]
     },
     "execution_count": 8,
     "metadata": {},
     "output_type": "execute_result"
    }
   ],
   "source": [
    "data.dtypes"
   ]
  },
  {
   "cell_type": "markdown",
   "metadata": {},
   "source": [
    "# -> não há problema nos dados"
   ]
  },
  {
   "cell_type": "markdown",
   "metadata": {},
   "source": [
    "## as colunas dos dados são"
   ]
  },
  {
   "cell_type": "code",
   "execution_count": 9,
   "metadata": {},
   "outputs": [
    {
     "data": {
      "text/plain": [
       "Index(['date', 'state', 'gender', 'age', 'color', 'cause', 'total'], dtype='object')"
      ]
     },
     "execution_count": 9,
     "metadata": {},
     "output_type": "execute_result"
    }
   ],
   "source": [
    "data.columns"
   ]
  },
  {
   "cell_type": "markdown",
   "metadata": {},
   "source": [
    "# Quantos estados temos?"
   ]
  },
  {
   "cell_type": "code",
   "execution_count": 10,
   "metadata": {},
   "outputs": [
    {
     "data": {
      "text/plain": [
       "27"
      ]
     },
     "execution_count": 10,
     "metadata": {},
     "output_type": "execute_result"
    }
   ],
   "source": [
    "len(data.state.unique())"
   ]
  },
  {
   "cell_type": "code",
   "execution_count": 11,
   "metadata": {},
   "outputs": [
    {
     "data": {
      "text/plain": [
       "array(['AC', 'AL', 'AM', 'AP', 'BA', 'CE', 'DF', 'ES', 'GO', 'MA', 'MG',\n",
       "       'MS', 'MT', 'PA', 'PB', 'PE', 'PI', 'PR', 'RJ', 'RN', 'RO', 'RR',\n",
       "       'RS', 'SC', 'SE', 'SP', 'TO'], dtype=object)"
      ]
     },
     "execution_count": 11,
     "metadata": {},
     "output_type": "execute_result"
    }
   ],
   "source": [
    "data.state.unique()"
   ]
  },
  {
   "cell_type": "markdown",
   "metadata": {},
   "source": [
    "# -> 26 estados e o distrito federal. Está OK."
   ]
  },
  {
   "cell_type": "markdown",
   "metadata": {},
   "source": [
    "## para o gênero"
   ]
  },
  {
   "cell_type": "code",
   "execution_count": 12,
   "metadata": {},
   "outputs": [
    {
     "data": {
      "text/plain": [
       "array(['F', 'M'], dtype=object)"
      ]
     },
     "execution_count": 12,
     "metadata": {},
     "output_type": "execute_result"
    }
   ],
   "source": [
    "data.gender.unique()"
   ]
  },
  {
   "cell_type": "markdown",
   "metadata": {},
   "source": [
    "# Masculino e Feminino. OK."
   ]
  },
  {
   "cell_type": "code",
   "execution_count": 13,
   "metadata": {},
   "outputs": [
    {
     "data": {
      "text/plain": [
       "array(['60 - 69', '80 - 89', '30 - 39', '70 - 79', '< 9', '40 - 49',\n",
       "       '50 - 59', '> 100', '10 - 19', '20 - 29', '90 - 99', 'N/I'],\n",
       "      dtype=object)"
      ]
     },
     "execution_count": 13,
     "metadata": {},
     "output_type": "execute_result"
    }
   ],
   "source": [
    "data.age.unique()"
   ]
  },
  {
   "cell_type": "markdown",
   "metadata": {},
   "source": [
    "# Temos várias faixas etárias. Há uma não informada (N/I)."
   ]
  },
  {
   "cell_type": "markdown",
   "metadata": {},
   "source": [
    "# garantindo que a idade é do tipo string"
   ]
  },
  {
   "cell_type": "code",
   "execution_count": 14,
   "metadata": {},
   "outputs": [],
   "source": [
    "data.age=data.age.astype('str')"
   ]
  },
  {
   "cell_type": "markdown",
   "metadata": {},
   "source": [
    "# mudando um pouco a classificação das faixas etárias para fazer gráficos melhores."
   ]
  },
  {
   "cell_type": "code",
   "execution_count": 15,
   "metadata": {},
   "outputs": [],
   "source": [
    "data.age=data.age.replace({'> 100':'99+', '< 9':'0-9'})"
   ]
  },
  {
   "cell_type": "code",
   "execution_count": 16,
   "metadata": {},
   "outputs": [
    {
     "data": {
      "text/plain": [
       "array(['60 - 69', '80 - 89', '30 - 39', '70 - 79', '0-9', '40 - 49',\n",
       "       '50 - 59', '99+', '10 - 19', '20 - 29', '90 - 99', 'N/I'],\n",
       "      dtype=object)"
      ]
     },
     "execution_count": 16,
     "metadata": {},
     "output_type": "execute_result"
    }
   ],
   "source": [
    "data.age.unique()"
   ]
  },
  {
   "cell_type": "markdown",
   "metadata": {},
   "source": [
    "## -> OK!"
   ]
  },
  {
   "cell_type": "markdown",
   "metadata": {},
   "source": [
    "## para a cor da pele da pessoa"
   ]
  },
  {
   "cell_type": "code",
   "execution_count": 17,
   "metadata": {},
   "outputs": [
    {
     "data": {
      "text/plain": [
       "array(['East asian', 'White', 'Indigenous', 'Mixed', 'Ignored', 'Black'],\n",
       "      dtype=object)"
      ]
     },
     "execution_count": 17,
     "metadata": {},
     "output_type": "execute_result"
    }
   ],
   "source": [
    "data.color.unique()"
   ]
  },
  {
   "cell_type": "markdown",
   "metadata": {},
   "source": [
    "# temos cinco categorias e uma chamada \"ignored\"?!"
   ]
  },
  {
   "cell_type": "markdown",
   "metadata": {},
   "source": [
    "## as causas de morte"
   ]
  },
  {
   "cell_type": "code",
   "execution_count": 18,
   "metadata": {},
   "outputs": [
    {
     "data": {
      "text/plain": [
       "array(['Septicemia', 'Hearth attack', 'Others', 'Cardiogenic shock',\n",
       "       'Pneumonia', 'Stroke', 'Undetermined', 'Respiratory failure',\n",
       "       'Cardiopathy', 'Sudden death', 'Sars', 'Covid', 'Covid (stroke)',\n",
       "       'Covid (hearth attack)', 'Unknown'], dtype=object)"
      ]
     },
     "execution_count": 18,
     "metadata": {},
     "output_type": "execute_result"
    }
   ],
   "source": [
    "data.cause.unique()"
   ]
  },
  {
   "cell_type": "code",
   "execution_count": 19,
   "metadata": {},
   "outputs": [
    {
     "data": {
      "text/plain": [
       "15"
      ]
     },
     "execution_count": 19,
     "metadata": {},
     "output_type": "execute_result"
    }
   ],
   "source": [
    "len(data.cause.unique())"
   ]
  },
  {
   "cell_type": "markdown",
   "metadata": {},
   "source": [
    "# temos 13 causas de morte, sendo que existem tb 'Undetermined' e 'Unknown'.\n",
    "# há morte por covid de três formas: covid \"por si só\", derrame e ataque cardíaco."
   ]
  },
  {
   "cell_type": "markdown",
   "metadata": {},
   "source": [
    "# -> há uma alta chance de que as mortes por pneumonia e falha respiratória em 2020 estejam mascarando mais mortes por covid."
   ]
  },
  {
   "cell_type": "markdown",
   "metadata": {},
   "source": [
    "# analisando o máximo de mortes que pode ocorrer por dia (lembrar que para um dado estado, a morte pode ocorrer por mais causas)"
   ]
  },
  {
   "cell_type": "code",
   "execution_count": 20,
   "metadata": {},
   "outputs": [
    {
     "data": {
      "text/plain": [
       "array([ 1,  2,  3,  4,  6, 11,  7,  8,  5,  9, 12, 14, 10, 13, 16, 15, 23,\n",
       "       17, 21, 18, 19, 24, 27, 20, 26, 32, 22, 25, 28, 30, 29, 36, 31, 34,\n",
       "       35, 33, 38, 37, 41, 40, 43])"
      ]
     },
     "execution_count": 20,
     "metadata": {},
     "output_type": "execute_result"
    }
   ],
   "source": [
    "data.total.unique()"
   ]
  },
  {
   "cell_type": "markdown",
   "metadata": {},
   "source": [
    "# máximo de 43 mortos por uma causa e mínimo de 1. "
   ]
  },
  {
   "cell_type": "code",
   "execution_count": null,
   "metadata": {},
   "outputs": [],
   "source": []
  },
  {
   "cell_type": "markdown",
   "metadata": {},
   "source": [
    "# Análise da série temporal entre o começo do ano e 15 de novembro"
   ]
  },
  {
   "cell_type": "code",
   "execution_count": null,
   "metadata": {},
   "outputs": [],
   "source": []
  },
  {
   "cell_type": "code",
   "execution_count": 21,
   "metadata": {},
   "outputs": [
    {
     "data": {
      "text/plain": [
       "date\n",
       "2020-01-02    3153\n",
       "2020-01-03    3013\n",
       "2020-01-04    2949\n",
       "2020-01-05    2932\n",
       "2020-01-06    3033\n",
       "              ... \n",
       "2020-09-11    1673\n",
       "2020-09-12    1492\n",
       "2020-09-13    1244\n",
       "2020-09-14     576\n",
       "2020-09-15      81\n",
       "Name: total, Length: 258, dtype: int64"
      ]
     },
     "execution_count": 21,
     "metadata": {},
     "output_type": "execute_result"
    }
   ],
   "source": [
    "data_2019=data[(data['date'] <= '2019-09-15') & (data['date'] > '2019-01-01') ]\n",
    "data_2019=data_2019.groupby(['date']).sum()['total']\n",
    "data_2019\n",
    "\n",
    "data_2020=data[(data['date'] <= '2020-09-15') & (data['date'] > '2020-01-01')]\n",
    "data_2020=data_2020.groupby(['date']).sum()['total']\n",
    "data_2020\n",
    "\n"
   ]
  },
  {
   "cell_type": "code",
   "execution_count": 22,
   "metadata": {},
   "outputs": [
    {
     "data": {
      "text/plain": [
       "date\n",
       "2019-01-02    3029\n",
       "2019-01-03    3185\n",
       "2019-01-04    3059\n",
       "2019-01-05    2957\n",
       "2019-01-06    2772\n",
       "              ... \n",
       "2019-09-11    3366\n",
       "2019-09-12    3252\n",
       "2019-09-13    3286\n",
       "2019-09-14    3224\n",
       "2019-09-15    3222\n",
       "Name: total, Length: 257, dtype: int64"
      ]
     },
     "execution_count": 22,
     "metadata": {},
     "output_type": "execute_result"
    }
   ],
   "source": [
    "data_2019"
   ]
  },
  {
   "cell_type": "code",
   "execution_count": 23,
   "metadata": {},
   "outputs": [
    {
     "data": {
      "image/png": "[encoded data removed]",
      "text/plain": [
       "<Figure size 432x288 with 1 Axes>"
      ]
     },
     "metadata": {
      "needs_background": "light"
     },
     "output_type": "display_data"
    }
   ],
   "source": [
    "data_2020.plot()\n",
    "plt.xlabel('Date',size=20)\n",
    "plt.ylabel('Deaths',size=20)\n",
    "plt.show()"
   ]
  },
  {
   "cell_type": "markdown",
   "metadata": {},
   "source": [
    "## Em 2020, perto do dia 15 há uma queda significativa no número de mortes. Isso deve ser devido ao fato de que as mortes desses dias não foram contabilizadas porque os dados chegarão nos próximos dias."
   ]
  },
  {
   "cell_type": "code",
   "execution_count": null,
   "metadata": {},
   "outputs": [],
   "source": []
  },
  {
   "cell_type": "markdown",
   "metadata": {},
   "source": [
    "# Vamos fazer um gráfico de como variaram as mortes para cada ano"
   ]
  },
  {
   "cell_type": "code",
   "execution_count": null,
   "metadata": {},
   "outputs": [],
   "source": []
  },
  {
   "cell_type": "code",
   "execution_count": 24,
   "metadata": {},
   "outputs": [
    {
     "data": {
      "image/png": "[encoded data removed]",
      "text/plain": [
       "<Figure size 432x288 with 2 Axes>"
      ]
     },
     "metadata": {
      "needs_background": "light"
     },
     "output_type": "display_data"
    }
   ],
   "source": [
    "import matplotlib.dates as dates\n",
    "fig,axs=plt.subplots(2)\n",
    "axs[0].plot(data_2019,color='blue')\n",
    "axs[1].plot(data_2020,color='red')\n",
    "\n",
    "#\n",
    "axs[0].xaxis.set_major_locator(dates.MonthLocator())\n",
    "axs[0].set_xticklabels(pd.date_range(start='2019-01-01', freq='M', periods=12).month_name())\n",
    "axs[0].set_ylabel('Deaths',size=20)\n",
    "axs[1].xaxis.set_major_locator(dates.MonthLocator())\n",
    "axs[1].set_ylabel('Deaths',size=20)\n",
    "\n",
    "plt.show()"
   ]
  },
  {
   "cell_type": "markdown",
   "metadata": {},
   "source": [
    "## O perfil temporal de mortes é bem diferente"
   ]
  },
  {
   "cell_type": "code",
   "execution_count": null,
   "metadata": {},
   "outputs": [],
   "source": []
  },
  {
   "cell_type": "markdown",
   "metadata": {},
   "source": [
    "# Vamos fazer uma comparação agora pela idade"
   ]
  },
  {
   "cell_type": "code",
   "execution_count": 25,
   "metadata": {},
   "outputs": [
    {
     "data": {
      "text/plain": [
       "<Figure size 576x432 with 0 Axes>"
      ]
     },
     "metadata": {},
     "output_type": "display_data"
    }
   ],
   "source": [
    "\n",
    "data_2019=data[(data['date'] <= '2019-09-15') & (data['date'] >= '2019-01-01')]\n",
    "data_2020=data[(data['date'] <= '2020-09-15') & (data['date'] >= '2020-01-01')]\n",
    "\n",
    "plt.figure(figsize=[8,6])\n",
    "grouped_age=data_2019.groupby(['age'])['total'].sum()\n",
    "grouped_age_2020=data_2020.groupby(['age'])['total'].sum()\n"
   ]
  },
  {
   "cell_type": "code",
   "execution_count": 26,
   "metadata": {},
   "outputs": [
    {
     "data": {
      "image/png": "[encoded data removed]",
      "text/plain": [
       "<Figure size 432x288 with 1 Axes>"
      ]
     },
     "metadata": {
      "needs_background": "light"
     },
     "output_type": "display_data"
    }
   ],
   "source": [
    "grouped_age.plot(color='blue',label='2019')\n",
    "grouped_age_2020.plot(color='red',label='2020')\n",
    "\n",
    "plt.legend(fontsize=16)\n",
    "plt.xlabel('Age',size=20)\n",
    "plt.ylabel('Mortes',size=20)\n",
    "plt.show()"
   ]
  },
  {
   "cell_type": "markdown",
   "metadata": {},
   "source": [
    "# claramente há um aumento significativo nas mortes principalmente entre 50-59 a 70-79 anos"
   ]
  },
  {
   "cell_type": "code",
   "execution_count": null,
   "metadata": {},
   "outputs": [],
   "source": []
  },
  {
   "cell_type": "markdown",
   "metadata": {},
   "source": [
    "# Analisando agora por estado"
   ]
  },
  {
   "cell_type": "code",
   "execution_count": 27,
   "metadata": {},
   "outputs": [],
   "source": [
    "#plt.figure(figsize=[8,6])\n",
    "grouped_state=data_2019.groupby(['state'])['total'].sum()\n",
    "grouped_state_2020=data_2020.groupby(['state'])['total'].sum()\n"
   ]
  },
  {
   "cell_type": "code",
   "execution_count": null,
   "metadata": {},
   "outputs": [],
   "source": []
  },
  {
   "cell_type": "code",
   "execution_count": 28,
   "metadata": {},
   "outputs": [],
   "source": [
    "df_2020=pd.DataFrame(grouped_state_2020)\n",
    "df_2019=pd.DataFrame(grouped_state)"
   ]
  },
  {
   "cell_type": "code",
   "execution_count": 29,
   "metadata": {},
   "outputs": [
    {
     "data": {
      "text/html": [
       "<div>\n",
       "<style scoped>\n",
       "    .dataframe tbody tr th:only-of-type {\n",
       "        vertical-align: middle;\n",
       "    }\n",
       "\n",
       "    .dataframe tbody tr th {\n",
       "        vertical-align: top;\n",
       "    }\n",
       "\n",
       "    .dataframe thead th {\n",
       "        text-align: right;\n",
       "    }\n",
       "</style>\n",
       "<table border=\"1\" class=\"dataframe\">\n",
       "  <thead>\n",
       "    <tr style=\"text-align: right;\">\n",
       "      <th></th>\n",
       "      <th>total</th>\n",
       "    </tr>\n",
       "    <tr>\n",
       "      <th>state</th>\n",
       "      <th></th>\n",
       "    </tr>\n",
       "  </thead>\n",
       "  <tbody>\n",
       "    <tr>\n",
       "      <th>AC</th>\n",
       "      <td>2325</td>\n",
       "    </tr>\n",
       "    <tr>\n",
       "      <th>AL</th>\n",
       "      <td>10655</td>\n",
       "    </tr>\n",
       "    <tr>\n",
       "      <th>AM</th>\n",
       "      <td>9086</td>\n",
       "    </tr>\n",
       "    <tr>\n",
       "      <th>AP</th>\n",
       "      <td>1687</td>\n",
       "    </tr>\n",
       "    <tr>\n",
       "      <th>BA</th>\n",
       "      <td>44890</td>\n",
       "    </tr>\n",
       "    <tr>\n",
       "      <th>CE</th>\n",
       "      <td>26910</td>\n",
       "    </tr>\n",
       "    <tr>\n",
       "      <th>DF</th>\n",
       "      <td>9920</td>\n",
       "    </tr>\n",
       "    <tr>\n",
       "      <th>ES</th>\n",
       "      <td>16455</td>\n",
       "    </tr>\n",
       "    <tr>\n",
       "      <th>GO</th>\n",
       "      <td>20812</td>\n",
       "    </tr>\n",
       "    <tr>\n",
       "      <th>MA</th>\n",
       "      <td>11432</td>\n",
       "    </tr>\n",
       "    <tr>\n",
       "      <th>MG</th>\n",
       "      <td>84795</td>\n",
       "    </tr>\n",
       "    <tr>\n",
       "      <th>MS</th>\n",
       "      <td>10650</td>\n",
       "    </tr>\n",
       "    <tr>\n",
       "      <th>MT</th>\n",
       "      <td>8929</td>\n",
       "    </tr>\n",
       "    <tr>\n",
       "      <th>PA</th>\n",
       "      <td>16329</td>\n",
       "    </tr>\n",
       "    <tr>\n",
       "      <th>PB</th>\n",
       "      <td>18156</td>\n",
       "    </tr>\n",
       "    <tr>\n",
       "      <th>PE</th>\n",
       "      <td>41386</td>\n",
       "    </tr>\n",
       "    <tr>\n",
       "      <th>PI</th>\n",
       "      <td>9239</td>\n",
       "    </tr>\n",
       "    <tr>\n",
       "      <th>PR</th>\n",
       "      <td>45681</td>\n",
       "    </tr>\n",
       "    <tr>\n",
       "      <th>RJ</th>\n",
       "      <td>99181</td>\n",
       "    </tr>\n",
       "    <tr>\n",
       "      <th>RN</th>\n",
       "      <td>10930</td>\n",
       "    </tr>\n",
       "    <tr>\n",
       "      <th>RO</th>\n",
       "      <td>4899</td>\n",
       "    </tr>\n",
       "    <tr>\n",
       "      <th>RR</th>\n",
       "      <td>1502</td>\n",
       "    </tr>\n",
       "    <tr>\n",
       "      <th>RS</th>\n",
       "      <td>59558</td>\n",
       "    </tr>\n",
       "    <tr>\n",
       "      <th>SC</th>\n",
       "      <td>27473</td>\n",
       "    </tr>\n",
       "    <tr>\n",
       "      <th>SE</th>\n",
       "      <td>7850</td>\n",
       "    </tr>\n",
       "    <tr>\n",
       "      <th>SP</th>\n",
       "      <td>216788</td>\n",
       "    </tr>\n",
       "    <tr>\n",
       "      <th>TO</th>\n",
       "      <td>3304</td>\n",
       "    </tr>\n",
       "  </tbody>\n",
       "</table>\n",
       "</div>"
      ],
      "text/plain": [
       "        total\n",
       "state        \n",
       "AC       2325\n",
       "AL      10655\n",
       "AM       9086\n",
       "AP       1687\n",
       "BA      44890\n",
       "CE      26910\n",
       "DF       9920\n",
       "ES      16455\n",
       "GO      20812\n",
       "MA      11432\n",
       "MG      84795\n",
       "MS      10650\n",
       "MT       8929\n",
       "PA      16329\n",
       "PB      18156\n",
       "PE      41386\n",
       "PI       9239\n",
       "PR      45681\n",
       "RJ      99181\n",
       "RN      10930\n",
       "RO       4899\n",
       "RR       1502\n",
       "RS      59558\n",
       "SC      27473\n",
       "SE       7850\n",
       "SP     216788\n",
       "TO       3304"
      ]
     },
     "execution_count": 29,
     "metadata": {},
     "output_type": "execute_result"
    }
   ],
   "source": [
    "df_2019"
   ]
  },
  {
   "cell_type": "code",
   "execution_count": 30,
   "metadata": {},
   "outputs": [],
   "source": [
    "df_2019=df_2019.rename(columns={'total':'total_mortes_2019'})\n",
    "df_2020=df_2020.rename(columns={'total':'total_mortes_2020'})\n"
   ]
  },
  {
   "cell_type": "code",
   "execution_count": 31,
   "metadata": {},
   "outputs": [],
   "source": [
    "df_total=df_2019.merge(df_2020,how='left',on='state')"
   ]
  },
  {
   "cell_type": "code",
   "execution_count": 32,
   "metadata": {},
   "outputs": [
    {
     "data": {
      "text/plain": [
       "27"
      ]
     },
     "execution_count": 32,
     "metadata": {},
     "output_type": "execute_result"
    }
   ],
   "source": [
    "len(df_total)"
   ]
  },
  {
   "cell_type": "markdown",
   "metadata": {},
   "source": [
    "# Primeiro colocando em um gráfico para 14 estados para não ficar muito denso"
   ]
  },
  {
   "cell_type": "code",
   "execution_count": 33,
   "metadata": {},
   "outputs": [
    {
     "data": {
      "image/png": "[encoded data removed]",
      "text/plain": [
       "<Figure size 720x576 with 1 Axes>"
      ]
     },
     "metadata": {
      "needs_background": "light"
     },
     "output_type": "display_data"
    }
   ],
   "source": [
    "\n",
    "fig,ax=plt.subplots(1,figsize=[10,8])\n",
    "#plt.figure(figsize=[100,8])\n",
    "#df_total['total2019'].value_counts().plot(kind='bar',color='black',ax=ax)\n",
    "#grouped_state_2020.plot(kind='bar',color='red',ax=ax)\n",
    "df_total[:14].plot(kind='bar',ax=ax)\n",
    "plt.legend(fontsize=20)\n",
    "#plt.xticks(grouped_state)\n",
    "plt.xlabel('State',size=30)\n",
    "plt.ylabel('Deaths',size=30)\n",
    "plt.show()\n"
   ]
  },
  {
   "cell_type": "markdown",
   "metadata": {},
   "source": [
    "# Agora para os 13 restantes"
   ]
  },
  {
   "cell_type": "code",
   "execution_count": 34,
   "metadata": {},
   "outputs": [
    {
     "data": {
      "image/png": "[encoded data removed]",
      "text/plain": [
       "<Figure size 720x576 with 1 Axes>"
      ]
     },
     "metadata": {
      "needs_background": "light"
     },
     "output_type": "display_data"
    }
   ],
   "source": [
    "fig,ax=plt.subplots(1,figsize=[10,8])\n",
    "#plt.figure(figsize=[100,8])\n",
    "#df_total['total2019'].value_counts().plot(kind='bar',color='black',ax=ax)\n",
    "#grouped_state_2020.plot(kind='bar',color='red',ax=ax)\n",
    "df_total[14:].plot(kind='bar',ax=ax)\n",
    "plt.legend(fontsize=20)\n",
    "plt.xlabel('State',size=30)\n",
    "plt.ylabel('Deaths',size=30)\n",
    "#plt.xticks(grouped_state)\n",
    "plt.show()\n"
   ]
  },
  {
   "cell_type": "markdown",
   "metadata": {},
   "source": [
    "## claramente em muitos estados houve um aumento de mortes, mas em alguns o aumento foi pequeno. Vamos analisar a variação relativa a 2019 no mesmo período."
   ]
  },
  {
   "cell_type": "code",
   "execution_count": null,
   "metadata": {},
   "outputs": [],
   "source": []
  },
  {
   "cell_type": "code",
   "execution_count": 35,
   "metadata": {},
   "outputs": [],
   "source": [
    "df_2020_state=pd.DataFrame(grouped_state_2020)\n",
    "df_2019_state=pd.DataFrame(grouped_state)\n"
   ]
  },
  {
   "cell_type": "code",
   "execution_count": 36,
   "metadata": {},
   "outputs": [],
   "source": [
    "df_2019_state=df_2019_state.rename(columns={'total':'total_mortes_estado_2019'})\n",
    "df_2020_state=df_2020_state.rename(columns={'total':'total_mortes_estado_2020'})\n"
   ]
  },
  {
   "cell_type": "code",
   "execution_count": 37,
   "metadata": {},
   "outputs": [],
   "source": [
    "df_total_state=df_2019_state.merge(df_2020_state,how='left',on='state')"
   ]
  },
  {
   "cell_type": "code",
   "execution_count": 38,
   "metadata": {},
   "outputs": [],
   "source": [
    "df_total_state['variacao_mortes_state']=(df_total_state['total_mortes_estado_2020']-df_total_state['total_mortes_estado_2019'])/df_total_state['total_mortes_estado_2019']*100"
   ]
  },
  {
   "cell_type": "markdown",
   "metadata": {},
   "source": [
    "## 14 estados primeiramente"
   ]
  },
  {
   "cell_type": "code",
   "execution_count": 39,
   "metadata": {},
   "outputs": [
    {
     "data": {
      "image/png": "[encoded data removed]",
      "text/plain": [
       "<Figure size 720x576 with 1 Axes>"
      ]
     },
     "metadata": {
      "needs_background": "light"
     },
     "output_type": "display_data"
    }
   ],
   "source": [
    "\n",
    "fig,ax=plt.subplots(1,figsize=[10,8])\n",
    "#plt.figure(figsize=[100,8])\n",
    "#df_total['total2019'].value_counts().plot(kind='bar',color='black',ax=ax)\n",
    "#grouped_state_2020.plot(kind='bar',color='red',ax=ax)\n",
    "df_total_state['variacao_mortes_state'][:14].plot(kind='bar',ax=ax)\n",
    "plt.legend(fontsize=20)\n",
    "#plt.xticks(grouped_state)\n",
    "plt.xlabel('State',size=30)\n",
    "plt.ylabel('Variação Relativa de Mortes',size=30)\n",
    "plt.show()\n"
   ]
  },
  {
   "cell_type": "markdown",
   "metadata": {},
   "source": [
    "## 13 estados restantes"
   ]
  },
  {
   "cell_type": "code",
   "execution_count": 40,
   "metadata": {},
   "outputs": [
    {
     "data": {
      "image/png": "[encoded data removed]",
      "text/plain": [
       "<Figure size 720x576 with 1 Axes>"
      ]
     },
     "metadata": {
      "needs_background": "light"
     },
     "output_type": "display_data"
    }
   ],
   "source": [
    "\n",
    "fig,ax=plt.subplots(1,figsize=[10,8])\n",
    "#plt.figure(figsize=[100,8])\n",
    "#df_total['total2019'].value_counts().plot(kind='bar',color='black',ax=ax)\n",
    "#grouped_state_2020.plot(kind='bar',color='red',ax=ax)\n",
    "df_total_state['variacao_mortes_state'][14:].plot(kind='bar',ax=ax)\n",
    "plt.legend(fontsize=20)\n",
    "#plt.xticks(grouped_state)\n",
    "plt.xlabel('State',size=30)\n",
    "plt.ylabel('Variação Relativa de Mortes',size=30)\n",
    "plt.show()\n"
   ]
  },
  {
   "cell_type": "markdown",
   "metadata": {},
   "source": [
    "## estados como PI e RS, surpreendentemente, apresentaram queda relativa nas mortes. Estados como PR, SC e MS apresentaram um aumento menor do que 5% nas mortes.  Em contrapartida, estados como AM, MA apresentaram aumento de cerca de 40%, seguidos por AC, CE e PA com 30%."
   ]
  },
  {
   "cell_type": "code",
   "execution_count": null,
   "metadata": {},
   "outputs": [],
   "source": []
  },
  {
   "cell_type": "code",
   "execution_count": null,
   "metadata": {},
   "outputs": [],
   "source": []
  },
  {
   "cell_type": "markdown",
   "metadata": {},
   "source": [
    "# Analisando agora o total de mortes por etnia"
   ]
  },
  {
   "cell_type": "code",
   "execution_count": 41,
   "metadata": {},
   "outputs": [],
   "source": [
    "grouped_color=data_2019.groupby(['color'])['total'].sum()\n",
    "grouped_color_2020=data_2020.groupby(['color'])['total'].sum()\n",
    "\n",
    "df_2020_color=pd.DataFrame(grouped_color_2020)\n",
    "df_2019_color=pd.DataFrame(grouped_color)\n"
   ]
  },
  {
   "cell_type": "code",
   "execution_count": 42,
   "metadata": {},
   "outputs": [],
   "source": [
    "df_2019_color=df_2019_color.rename(columns={'total':'total_mortes_2019'})\n",
    "df_2020_color=df_2020_color.rename(columns={'total':'total_mortes_2020'})\n"
   ]
  },
  {
   "cell_type": "code",
   "execution_count": 43,
   "metadata": {},
   "outputs": [],
   "source": [
    "df_total_color=df_2019_color.merge(df_2020_color,how='left',on='color')"
   ]
  },
  {
   "cell_type": "code",
   "execution_count": null,
   "metadata": {},
   "outputs": [],
   "source": []
  },
  {
   "cell_type": "code",
   "execution_count": 44,
   "metadata": {},
   "outputs": [
    {
     "data": {
      "image/png": "[encoded data removed]",
      "text/plain": [
       "<Figure size 720x576 with 1 Axes>"
      ]
     },
     "metadata": {
      "needs_background": "light"
     },
     "output_type": "display_data"
    }
   ],
   "source": [
    "fig,ax=plt.subplots(1,figsize=[10,8])\n",
    "#plt.figure(figsize=[100,8])\n",
    "#df_total['total2019'].value_counts().plot(kind='bar',color='black',ax=ax)\n",
    "#grouped_state_2020.plot(kind='bar',color='red',ax=ax)\n",
    "df_total_color.plot(kind='bar',ax=ax)\n",
    "\n",
    "#plt.xticks(grouped_state)\n",
    "plt.legend(fontsize=20)\n",
    "\n",
    "plt.xlabel('Cor da pele',size=32)\n",
    "plt.ylabel('Deaths',size=32)\n",
    "\n",
    "plt.show()\n"
   ]
  },
  {
   "cell_type": "markdown",
   "metadata": {},
   "source": [
    "# aparentemente houveram aumentos. Mas vamos analisar relativamente a 2019 essas mortes"
   ]
  },
  {
   "cell_type": "code",
   "execution_count": 45,
   "metadata": {},
   "outputs": [],
   "source": [
    "df_total_color['aumento_mortes_color']=(df_total_color['total_mortes_2020']-df_total_color['total_mortes_2019'])/df_total_color['total_mortes_2019']*100"
   ]
  },
  {
   "cell_type": "code",
   "execution_count": 46,
   "metadata": {},
   "outputs": [
    {
     "data": {
      "text/html": [
       "<div>\n",
       "<style scoped>\n",
       "    .dataframe tbody tr th:only-of-type {\n",
       "        vertical-align: middle;\n",
       "    }\n",
       "\n",
       "    .dataframe tbody tr th {\n",
       "        vertical-align: top;\n",
       "    }\n",
       "\n",
       "    .dataframe thead th {\n",
       "        text-align: right;\n",
       "    }\n",
       "</style>\n",
       "<table border=\"1\" class=\"dataframe\">\n",
       "  <thead>\n",
       "    <tr style=\"text-align: right;\">\n",
       "      <th></th>\n",
       "      <th>total_mortes_2019</th>\n",
       "      <th>total_mortes_2020</th>\n",
       "      <th>aumento_mortes_color</th>\n",
       "    </tr>\n",
       "    <tr>\n",
       "      <th>color</th>\n",
       "      <th></th>\n",
       "      <th></th>\n",
       "      <th></th>\n",
       "    </tr>\n",
       "  </thead>\n",
       "  <tbody>\n",
       "    <tr>\n",
       "      <th>Black</th>\n",
       "      <td>46888</td>\n",
       "      <td>58214</td>\n",
       "      <td>24.155434</td>\n",
       "    </tr>\n",
       "    <tr>\n",
       "      <th>East asian</th>\n",
       "      <td>7190</td>\n",
       "      <td>7855</td>\n",
       "      <td>9.248957</td>\n",
       "    </tr>\n",
       "    <tr>\n",
       "      <th>Ignored</th>\n",
       "      <td>144845</td>\n",
       "      <td>147435</td>\n",
       "      <td>1.788118</td>\n",
       "    </tr>\n",
       "    <tr>\n",
       "      <th>Indigenous</th>\n",
       "      <td>1451</td>\n",
       "      <td>1747</td>\n",
       "      <td>20.399724</td>\n",
       "    </tr>\n",
       "    <tr>\n",
       "      <th>Mixed</th>\n",
       "      <td>220815</td>\n",
       "      <td>266856</td>\n",
       "      <td>20.850486</td>\n",
       "    </tr>\n",
       "    <tr>\n",
       "      <th>White</th>\n",
       "      <td>399633</td>\n",
       "      <td>429029</td>\n",
       "      <td>7.355749</td>\n",
       "    </tr>\n",
       "  </tbody>\n",
       "</table>\n",
       "</div>"
      ],
      "text/plain": [
       "            total_mortes_2019  total_mortes_2020  aumento_mortes_color\n",
       "color                                                                 \n",
       "Black                   46888              58214             24.155434\n",
       "East asian               7190               7855              9.248957\n",
       "Ignored                144845             147435              1.788118\n",
       "Indigenous               1451               1747             20.399724\n",
       "Mixed                  220815             266856             20.850486\n",
       "White                  399633             429029              7.355749"
      ]
     },
     "execution_count": 46,
     "metadata": {},
     "output_type": "execute_result"
    }
   ],
   "source": [
    "df_total_color"
   ]
  },
  {
   "cell_type": "code",
   "execution_count": 47,
   "metadata": {},
   "outputs": [
    {
     "data": {
      "image/png": "[encoded data removed]",
      "text/plain": [
       "<Figure size 432x288 with 1 Axes>"
      ]
     },
     "metadata": {
      "needs_background": "light"
     },
     "output_type": "display_data"
    }
   ],
   "source": [
    "\n",
    "df_total_color['aumento_mortes_color'].plot(kind='bar')\n",
    "plt.xlabel('Cor da pele',size=18)\n",
    "plt.ylabel('Aumento Relativo por Etnia',size=18)\n",
    "\n",
    "plt.show()\n"
   ]
  },
  {
   "cell_type": "code",
   "execution_count": null,
   "metadata": {},
   "outputs": [],
   "source": []
  },
  {
   "cell_type": "markdown",
   "metadata": {},
   "source": [
    "## a partir da análise acima fica evidente que negros e indígenas foram muito mais afetados pela pandemia."
   ]
  },
  {
   "cell_type": "code",
   "execution_count": null,
   "metadata": {},
   "outputs": [],
   "source": []
  },
  {
   "cell_type": "markdown",
   "metadata": {},
   "source": [
    "# Fazendo a análise agora por causa de morte"
   ]
  },
  {
   "cell_type": "code",
   "execution_count": null,
   "metadata": {},
   "outputs": [],
   "source": []
  },
  {
   "cell_type": "code",
   "execution_count": 48,
   "metadata": {},
   "outputs": [],
   "source": [
    "grouped_cause=data_2019.groupby(['cause'])['total'].sum()\n",
    "grouped_cause_2020=data_2020.groupby(['cause'])['total'].sum()\n",
    "\n",
    "df_2020_cause=pd.DataFrame(grouped_cause_2020)\n",
    "df_2019_cause=pd.DataFrame(grouped_cause)\n"
   ]
  },
  {
   "cell_type": "code",
   "execution_count": 49,
   "metadata": {},
   "outputs": [],
   "source": [
    "df_2019_cause=df_2019_cause.rename(columns={'total':'total_mortes_2019_causa'})\n",
    "df_2020_cause=df_2020_cause.rename(columns={'total':'total_mortes_2020_causa'})\n",
    "\n"
   ]
  },
  {
   "cell_type": "code",
   "execution_count": 50,
   "metadata": {},
   "outputs": [],
   "source": [
    "df_total_cause=df_2019_cause.merge(df_2020_cause,how='right',on='cause')"
   ]
  },
  {
   "cell_type": "code",
   "execution_count": 51,
   "metadata": {},
   "outputs": [
    {
     "data": {
      "image/png": "[encoded data removed]",
      "text/plain": [
       "<Figure size 720x720 with 1 Axes>"
      ]
     },
     "metadata": {
      "needs_background": "light"
     },
     "output_type": "display_data"
    }
   ],
   "source": [
    "fig,ax=plt.subplots(1,figsize=[10,10])\n",
    "#plt.figure(figsize=[100,8])\n",
    "#df_total['total2019'].value_counts().plot(kind='bar',color='black',ax=ax)\n",
    "#grouped_state_2020.plot(kind='bar',color='red',ax=ax)\n",
    "df_total_cause.plot(kind='bar',ax=ax)\n",
    "plt.legend(fontsize=20)\n",
    "\n",
    "plt.xlabel('Causa da Morte',size=32)\n",
    "plt.ylabel('Deaths',size=32)\n",
    "\n",
    "#plt.xticks(grouped_state)\n",
    "plt.show()"
   ]
  },
  {
   "cell_type": "markdown",
   "metadata": {},
   "source": [
    "# algumas causas de morte diminuíram e outras aumentaram relativamente a 2019. Vale a pena fazer uma análise comparativa a 2019 para ver como a pandemia afetou as causas de mortes"
   ]
  },
  {
   "cell_type": "code",
   "execution_count": null,
   "metadata": {},
   "outputs": [],
   "source": []
  },
  {
   "cell_type": "code",
   "execution_count": 52,
   "metadata": {},
   "outputs": [],
   "source": [
    "df_total_cause['mortes_relativas_causa']=(df_2020_cause['total_mortes_2020_causa']-df_2019_cause['total_mortes_2019_causa'])/df_2019_cause['total_mortes_2019_causa']*100"
   ]
  },
  {
   "cell_type": "markdown",
   "metadata": {},
   "source": [
    "## causas que houveram relativo aumento\n"
   ]
  },
  {
   "cell_type": "code",
   "execution_count": 53,
   "metadata": {},
   "outputs": [
    {
     "data": {
      "image/png": "[encoded data removed]",
      "text/plain": [
       "<Figure size 432x288 with 1 Axes>"
      ]
     },
     "metadata": {
      "needs_background": "light"
     },
     "output_type": "display_data"
    }
   ],
   "source": [
    "(df_total_cause['mortes_relativas_causa'][df_total_cause['mortes_relativas_causa']>0.]).plot(kind='bar',label='causas_mortes_aumentaram')\n",
    "\n",
    "plt.legend(fontsize=9)\n",
    "plt.xlabel('Causa',size=16)\n",
    "plt.ylabel('Deaths',size=16)\n",
    "\n",
    "\n",
    "plt.show()\n"
   ]
  },
  {
   "cell_type": "markdown",
   "metadata": {},
   "source": [
    "# cardiopatia, morte súbita e causa indeterminada aumentaram bastante em relação a 2019, mas SARS aumentou mais de 1000%!!!! Com certeza, isso está mascarando mais mortes por covid!"
   ]
  },
  {
   "cell_type": "markdown",
   "metadata": {},
   "source": [
    "## causas que houveram relativa diminuição"
   ]
  },
  {
   "cell_type": "code",
   "execution_count": 54,
   "metadata": {},
   "outputs": [
    {
     "data": {
      "image/png": "[encoded data removed]",
      "text/plain": [
       "<Figure size 432x288 with 1 Axes>"
      ]
     },
     "metadata": {
      "needs_background": "light"
     },
     "output_type": "display_data"
    }
   ],
   "source": [
    "\n",
    "(df_total_cause['mortes_relativas_causa'][df_total_cause['mortes_relativas_causa']<0.]).plot(kind='bar',label='causas_mortes_diminuiram')\n",
    "plt.legend()\n",
    "plt.xlabel('Causa',size=16)\n",
    "plt.ylabel('Deaths',size=16)\n",
    "plt.show()"
   ]
  },
  {
   "cell_type": "markdown",
   "metadata": {},
   "source": [
    "## diversas causa, como pneumonia, falha respiratória e derrame diminuíram em relação a 2019. Com certeza, isso mostra que as mortes por covid relatadas nesse ano podem estar relacionadas com suspostas mortes por essas causas"
   ]
  },
  {
   "cell_type": "code",
   "execution_count": null,
   "metadata": {},
   "outputs": [],
   "source": []
  },
  {
   "cell_type": "markdown",
   "metadata": {},
   "source": [
    "# Analisando por gênero"
   ]
  },
  {
   "cell_type": "code",
   "execution_count": null,
   "metadata": {},
   "outputs": [],
   "source": []
  },
  {
   "cell_type": "code",
   "execution_count": 55,
   "metadata": {},
   "outputs": [],
   "source": [
    "grouped_gender=data_2019.groupby(['gender'])['total'].sum()\n",
    "grouped_gender_2020=data_2020.groupby(['gender'])['total'].sum()\n",
    "\n",
    "df_2020_gender=pd.DataFrame(grouped_gender_2020)\n",
    "df_2019_gender=pd.DataFrame(grouped_gender)\n"
   ]
  },
  {
   "cell_type": "code",
   "execution_count": 56,
   "metadata": {},
   "outputs": [],
   "source": [
    "df_2019_gender=df_2019_gender.rename(columns={'total':'total_mortes_2019_genero'})\n",
    "df_2020_gender=df_2020_gender.rename(columns={'total':'total_mortes_2020_genero'})\n",
    "\n"
   ]
  },
  {
   "cell_type": "code",
   "execution_count": 57,
   "metadata": {},
   "outputs": [],
   "source": [
    "df_total_gender=df_2019_gender.merge(df_2020_gender,how='right',on='gender')"
   ]
  },
  {
   "cell_type": "code",
   "execution_count": 58,
   "metadata": {},
   "outputs": [
    {
     "data": {
      "image/png": "[encoded data removed]",
      "text/plain": [
       "<Figure size 432x288 with 1 Axes>"
      ]
     },
     "metadata": {
      "needs_background": "light"
     },
     "output_type": "display_data"
    }
   ],
   "source": [
    "fig,ax=plt.subplots(1,figsize=[6,4])\n",
    "#plt.figure(figsize=[100,8])\n",
    "#df_total['total2019'].value_counts().plot(kind='bar',color='black',ax=ax)\n",
    "#grouped_state_2020.plot(kind='bar',color='red',ax=ax)\n",
    "df_total_gender.plot(kind='bar',ax=ax)\n",
    "plt.axhline(380000,linestyle='--',linewidth=2,color='black')\n",
    "#plt.xticks(grouped_state)\n",
    "\n",
    "plt.xlabel('Gênero',size=16)\n",
    "plt.ylabel('Deaths',size=16)\n",
    "\n",
    "\n",
    "plt.show()"
   ]
  },
  {
   "cell_type": "markdown",
   "metadata": {},
   "source": [
    "## claramente houve um aumento de mortes em homens e mulheres de 2019 para 2020 no mesmo período devido à pandemia. Vamos analisar isso percentualmente."
   ]
  },
  {
   "cell_type": "code",
   "execution_count": 59,
   "metadata": {},
   "outputs": [
    {
     "data": {
      "text/html": [
       "<div>\n",
       "<style scoped>\n",
       "    .dataframe tbody tr th:only-of-type {\n",
       "        vertical-align: middle;\n",
       "    }\n",
       "\n",
       "    .dataframe tbody tr th {\n",
       "        vertical-align: top;\n",
       "    }\n",
       "\n",
       "    .dataframe thead th {\n",
       "        text-align: right;\n",
       "    }\n",
       "</style>\n",
       "<table border=\"1\" class=\"dataframe\">\n",
       "  <thead>\n",
       "    <tr style=\"text-align: right;\">\n",
       "      <th></th>\n",
       "      <th>total_mortes_2020_genero</th>\n",
       "    </tr>\n",
       "    <tr>\n",
       "      <th>gender</th>\n",
       "      <th></th>\n",
       "    </tr>\n",
       "  </thead>\n",
       "  <tbody>\n",
       "    <tr>\n",
       "      <th>F</th>\n",
       "      <td>415125</td>\n",
       "    </tr>\n",
       "    <tr>\n",
       "      <th>M</th>\n",
       "      <td>496011</td>\n",
       "    </tr>\n",
       "  </tbody>\n",
       "</table>\n",
       "</div>"
      ],
      "text/plain": [
       "        total_mortes_2020_genero\n",
       "gender                          \n",
       "F                         415125\n",
       "M                         496011"
      ]
     },
     "execution_count": 59,
     "metadata": {},
     "output_type": "execute_result"
    }
   ],
   "source": [
    "df_2020_gender\n"
   ]
  },
  {
   "cell_type": "code",
   "execution_count": 60,
   "metadata": {},
   "outputs": [
    {
     "data": {
      "text/html": [
       "<div>\n",
       "<style scoped>\n",
       "    .dataframe tbody tr th:only-of-type {\n",
       "        vertical-align: middle;\n",
       "    }\n",
       "\n",
       "    .dataframe tbody tr th {\n",
       "        vertical-align: top;\n",
       "    }\n",
       "\n",
       "    .dataframe thead th {\n",
       "        text-align: right;\n",
       "    }\n",
       "</style>\n",
       "<table border=\"1\" class=\"dataframe\">\n",
       "  <thead>\n",
       "    <tr style=\"text-align: right;\">\n",
       "      <th></th>\n",
       "      <th>total_mortes_2019_genero</th>\n",
       "    </tr>\n",
       "    <tr>\n",
       "      <th>gender</th>\n",
       "      <th></th>\n",
       "    </tr>\n",
       "  </thead>\n",
       "  <tbody>\n",
       "    <tr>\n",
       "      <th>F</th>\n",
       "      <td>384267</td>\n",
       "    </tr>\n",
       "    <tr>\n",
       "      <th>M</th>\n",
       "      <td>436555</td>\n",
       "    </tr>\n",
       "  </tbody>\n",
       "</table>\n",
       "</div>"
      ],
      "text/plain": [
       "        total_mortes_2019_genero\n",
       "gender                          \n",
       "F                         384267\n",
       "M                         436555"
      ]
     },
     "execution_count": 60,
     "metadata": {},
     "output_type": "execute_result"
    }
   ],
   "source": [
    "df_2019_gender"
   ]
  },
  {
   "cell_type": "code",
   "execution_count": 61,
   "metadata": {},
   "outputs": [
    {
     "name": "stdout",
     "output_type": "stream",
     "text": [
      "Masculino: 13.619360676203456% de mortes a mais do que em 2019\n",
      "Feminino: 7.068525157196688% de mortes a mais do que em 2019\n"
     ]
    }
   ],
   "source": [
    "print('Masculino: {0}% de mortes a mais do que em 2019'.format(((496011-436555)/436555)*100))\n",
    "print('Feminino: {0}% de mortes a mais do que em 2019'.format(((415125-384267)/436555)*100))\n"
   ]
  },
  {
   "cell_type": "code",
   "execution_count": null,
   "metadata": {},
   "outputs": [],
   "source": []
  },
  {
   "cell_type": "markdown",
   "metadata": {},
   "source": [
    "# Conclusões"
   ]
  },
  {
   "cell_type": "markdown",
   "metadata": {},
   "source": [
    "# Foi feita uma análise exploratória de dados de mortes relatadas no Brasil no mesmo período de 2019 e 2020. Houve um aumento significativo na morte de brasileiros, sendo que no período de estudo morreram 13% a mais de homens e 7% a mais de mulheres do que no ano anterior. Negros e indígenos foram os mais afetados durante a pandemia. As faixas etárias entre 50 e 80 anos foram as que mais obtiveram aumentos relativos no período de tempo estudado. A quantidade relativa de mortes devido pela pandemia varia significativamente de estado para estado, mostrando a importância de um eficiente controle do governo e conscientização de parcela da população. Diversas mortes por Covid foram mascaradas por outras causas, como, por exemplo, SARG, e também houve a recíproca, onde houve uma diminuição relativa de mortes por pneumonia que provavelmente foram computadas como sendo por Covid."
   ]
  },
  {
   "cell_type": "code",
   "execution_count": null,
   "metadata": {},
   "outputs": [],
   "source": []
  }
 ],
 "metadata": {
  "kernelspec": {
   "display_name": "Python 3",
   "language": "python",
   "name": "python3"
  },
  "language_info": {
   "codemirror_mode": {
    "name": "ipython",
    "version": 3
   },
   "file_extension": ".py",
   "mimetype": "text/x-python",
   "name": "python",
   "nbconvert_exporter": "python",
   "pygments_lexer": "ipython3",
   "version": "3.6.10"
  }
 },
 "nbformat": 4,
 "nbformat_minor": 4
}
